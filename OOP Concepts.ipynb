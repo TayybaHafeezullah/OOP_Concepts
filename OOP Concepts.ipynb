{
 "cells": [
  {
   "cell_type": "code",
   "execution_count": 1,
   "id": "46dca869",
   "metadata": {},
   "outputs": [
    {
     "name": "stdout",
     "output_type": "stream",
     "text": [
      "Wellcome\n",
      "\n",
      "        1. Press 1 to Creat Pin\n",
      "        2. Press 2 to Change Pin\n",
      "        3. Press 3 to Check Balance\n",
      "        4. Press 4 to Widthdraw\n",
      "        5. Press 5 to Exit\n",
      "        1\n",
      "Enter Pin : 1\n",
      "enter Balance :1\n",
      "\n",
      "        1. Press 1 to Creat Pin\n",
      "        2. Press 2 to Change Pin\n",
      "        3. Press 3 to Check Balance\n",
      "        4. Press 4 to Widthdraw\n",
      "        5. Press 5 to Exit\n",
      "        1\n",
      "Enter Pin : 1\n",
      "enter Balance :1\n",
      "\n",
      "        1. Press 1 to Creat Pin\n",
      "        2. Press 2 to Change Pin\n",
      "        3. Press 3 to Check Balance\n",
      "        4. Press 4 to Widthdraw\n",
      "        5. Press 5 to Exit\n",
      "        5\n",
      "Enter Pin : 1234\n",
      "enter Balance :112\n",
      "\n",
      "        1. Press 1 to Creat Pin\n",
      "        2. Press 2 to Change Pin\n",
      "        3. Press 3 to Check Balance\n",
      "        4. Press 4 to Widthdraw\n",
      "        5. Press 5 to Exit\n",
      "        5\n"
     ]
    }
   ],
   "source": [
    "class ATM:\n",
    "    def __init__(self):\n",
    "        print(\"Wellcome\")\n",
    "        self.balance = 0\n",
    "        self.pin = \"\"\n",
    "        self.menu()\n",
    "        \n",
    "    def menu(self):\n",
    "        user_input = input(\"\"\"\n",
    "        1. Press 1 to Creat Pin\n",
    "        2. Press 2 to Change Pin\n",
    "        3. Press 3 to Check Balance\n",
    "        4. Press 4 to Widthdraw\n",
    "        5. Press 5 to Exit\n",
    "        \"\"\")\n",
    "        \n",
    "        if user_input == \"1\":\n",
    "            self.Create_pin()\n",
    "        elif user_input == '2':\n",
    "            self.Change_pin()\n",
    "        elif user_input == '3':\n",
    "            self.Check_balance()\n",
    "        elif user_input == '4':\n",
    "            self.Widthdraw()\n",
    "        else:\n",
    "            exit()      \n",
    "        \n",
    "    def Create_pin(self):\n",
    "        user_pin = input(\"Enter Pin : \")\n",
    "        self.pin = user_pin\n",
    "        \n",
    "        user_balance = int(input(\"enter Balance :\"))\n",
    "        self.balance = user_balance\n",
    "        self.menu()\n",
    "        \n",
    "    def Change_pin(self):\n",
    "        old_pin = input(\"Enter pin :\")\n",
    "        if old_pin == self.pin:\n",
    "            new_pin = input(\"New Pin\")\n",
    "            self.pin = new_pin\n",
    "            print(\"successfully Chnage \")\n",
    "            self.menu()\n",
    "        else:\n",
    "            print(\"incorrect pin\")\n",
    "            self.menu()\n",
    "    \n",
    "    def Check_balance(self):\n",
    "        user_pin = input(\"Enter pin :\")\n",
    "        if user_pin == self.pin:\n",
    "            print(self.balance)\n",
    "            self.menu()\n",
    "        else:\n",
    "            print(\"Incorrect pin\")\n",
    "            self.menu()\n",
    "            \n",
    "            \n",
    "    def Widthdraw(self):\n",
    "        user_pin = input(\"Enter pin :\")\n",
    "        if user_pin == self.pin:\n",
    "            amount = int(input(\"Enter amount\"))\n",
    "            if amount <= self.balance:\n",
    "                self.balance = self.balance - amount\n",
    "                print(\"Widthdraw sucessfull \")\n",
    "            else:\n",
    "                print(\"Not given amount\")\n",
    "        else:\n",
    "            print(\"you are not valid person\")\n",
    "obj = ATM()\n",
    "obj.Create_pin()"
   ]
  },
  {
   "cell_type": "code",
   "execution_count": 20,
   "id": "6c132b68",
   "metadata": {},
   "outputs": [
    {
     "name": "stdout",
     "output_type": "stream",
     "text": [
      "tayyba female 123\n"
     ]
    }
   ],
   "source": [
    "# Inheritance\n",
    "class Org:\n",
    "    def __init__(self,name,gender,pin):\n",
    "        self.name = name \n",
    "        self.gender = gender\n",
    "        self.__pin = pin\n",
    "    def get_pin(self):\n",
    "        print(self.__pin)\n",
    "        \n",
    "    def data_display(self):\n",
    "        print(self.name,self.gender,self.__pin)\n",
    "        \n",
    "class customer(Org):\n",
    "    def data(self):\n",
    "        pass\n",
    "    \n",
    "obj = Org(\"tayyba\", \"female\",123)\n",
    "obj.data_display()"
   ]
  },
  {
   "cell_type": "code",
   "execution_count": 37,
   "id": "8b78f0ef",
   "metadata": {},
   "outputs": [
    {
     "name": "stdout",
     "output_type": "stream",
     "text": [
      "Lahore 1234\n"
     ]
    },
    {
     "data": {
      "text/plain": [
       "'Tayyba'"
      ]
     },
     "execution_count": 37,
     "metadata": {},
     "output_type": "execute_result"
    }
   ],
   "source": [
    "# Aggregation Methods (Has a)\n",
    "class Customer:\n",
    "    def __init__(self,name,gender,address):\n",
    "        self.name = name\n",
    "        self.gender = gender\n",
    "        self.address = address\n",
    "    def Print_data(self):\n",
    "        print(self.address.city,self.address.zip_code)\n",
    "class Address:\n",
    "    def __init__(self,city,zip_code):\n",
    "        self.city = city\n",
    "        self.zip_code = zip_code\n",
    "        \n",
    "add = Address(\"Lahore\",1234)  \n",
    "obj = Customer(\"Tayyba\",\"Female\",add)\n",
    "obj.Print_data()\n",
    "obj.name"
   ]
  },
  {
   "cell_type": "code",
   "execution_count": 6,
   "id": "d97d34bd",
   "metadata": {},
   "outputs": [
    {
     "name": "stdout",
     "output_type": "stream",
     "text": [
      "e\n",
      "c\n",
      "k\n",
      "l\n"
     ]
    }
   ],
   "source": [
    "class class1:\n",
    "    def function_1(self):\n",
    "        print(\"a\") \n",
    "    def function_2(self):\n",
    "        print(\"b\")\n",
    "        \n",
    "class class2:\n",
    "    def function_1(self):\n",
    "        print(\"c\") \n",
    "    def function_3(self):\n",
    "        print(\"d\")\n",
    "        \n",
    "class class3:\n",
    "    def function_2(self):\n",
    "        print(\"e\") \n",
    "    def function_3(self):\n",
    "        print(\"f\")\n",
    "\n",
    "class ClassA(class3, class1):\n",
    "    def function_3(self):\n",
    "        print(\"h\")\n",
    "        \n",
    "class ClassB(class2):\n",
    "    def function_2(self):\n",
    "        print(\"i\") \n",
    "    def function_3(self): print(\"j\")\n",
    "\n",
    "class ClassC(class1): \n",
    "    def function_2(self):\n",
    "        print(\"k\")\n",
    "    def function_3(self):\n",
    "        print(\"l\")\n",
    "ClassA().function_2() \n",
    "ClassB().function_1() \n",
    "ClassC().function_2()\n",
    "ClassC().function_3()\n",
    "        \n",
    "    "
   ]
  },
  {
   "cell_type": "code",
   "execution_count": 46,
   "id": "35b523a5",
   "metadata": {},
   "outputs": [
    {
     "name": "stdout",
     "output_type": "stream",
     "text": [
      "Inside SmartPhone constructor\n"
     ]
    },
    {
     "data": {
      "text/plain": [
       "12222"
      ]
     },
     "execution_count": 46,
     "metadata": {},
     "output_type": "execute_result"
    }
   ],
   "source": [
    "# inheritance\n",
    "class Cellphones:\n",
    "    def __init__(self,price,brand,camera):\n",
    "        self.price = price\n",
    "        self.brand = brand\n",
    "        self.camera = camera\n",
    "class smartphone(Cellphones):     \n",
    "        print (\"Inside SmartPhone constructor\")\n",
    "        \n",
    "obj =  smartphone(12222,\"samsung\",32)\n",
    "obj.brand\n",
    "obj.price\n"
   ]
  },
  {
   "cell_type": "code",
   "execution_count": 18,
   "id": "a5aa01ff",
   "metadata": {},
   "outputs": [
    {
     "name": "stdout",
     "output_type": "stream",
     "text": [
      "child\n",
      "parents\n",
      "Inside SmartPhone constructor\n",
      "buy smartphone\n"
     ]
    }
   ],
   "source": [
    "# Super Keyword and Overriding\n",
    "class Cellphones:\n",
    "    def __init__(self, price, brand, camera):\n",
    "        print(\"parents\")\n",
    "        self.price = price\n",
    "        self.brand = brand\n",
    "        self.camera = camera\n",
    "        \n",
    "    def buy(self):\n",
    "        print(\"buy phone\")\n",
    "        \n",
    "class smartphone(Cellphones):\n",
    "    def __init__(self,price,brand,camera,os, ram):\n",
    "        print('child')\n",
    "        super().__init__(price,brand,camera)\n",
    "        self.os = os\n",
    "        self.ram = ram\n",
    "        print (\"Inside SmartPhone constructor\")\n",
    "        \n",
    "    def buy(self):\n",
    "        print(\"buy smartphone\")\n",
    "        \n",
    "s = smartphone(1234,\"Samsung\",108,\"android\",2)    \n",
    "s.brand\n",
    "s.camera\n",
    "s.buy()"
   ]
  },
  {
   "cell_type": "code",
   "execution_count": 8,
   "id": "062b6161",
   "metadata": {},
   "outputs": [
    {
     "name": "stdout",
     "output_type": "stream",
     "text": [
      "200\n"
     ]
    }
   ],
   "source": [
    "class parents:\n",
    "    def ___init__(self):\n",
    "        self.num =100\n",
    "        \n",
    "class child(parents):\n",
    "    def __init__(self):\n",
    "        super().__init__()\n",
    "        self.val = 200\n",
    "        \n",
    "    def show(self):\n",
    "#         print(self.num)\n",
    "        print(self.val)\n",
    "        \n",
    "obj1 = child()\n",
    "obj1.show()"
   ]
  },
  {
   "cell_type": "code",
   "execution_count": null,
   "id": "00664f74",
   "metadata": {},
   "outputs": [],
   "source": []
  }
 ],
 "metadata": {
  "kernelspec": {
   "display_name": "Python 3 (ipykernel)",
   "language": "python",
   "name": "python3"
  },
  "language_info": {
   "codemirror_mode": {
    "name": "ipython",
    "version": 3
   },
   "file_extension": ".py",
   "mimetype": "text/x-python",
   "name": "python",
   "nbconvert_exporter": "python",
   "pygments_lexer": "ipython3",
   "version": "3.9.7"
  }
 },
 "nbformat": 4,
 "nbformat_minor": 5
}
